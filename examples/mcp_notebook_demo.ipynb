{
 "cells": [
  {
   "cell_type": "markdown",
   "metadata": {},
   "source": [
    "# PYRSM MCP Server Demo\n",
    "\n",
    "This notebook demonstrates how to use the PYRSM MCP server with Jupyter notebooks in VS Code.\n",
    "\n",
    "## Setup\n",
    "\n",
    "Before running this notebook, make sure:\n",
    "\n",
    "1. The PYRSM package is installed\n",
    "2. The MCP server is running\n",
    "3. GitHub Copilot Chat is connected to the MCP server\n",
    "\n",
    "## Example Usage\n",
    "\n",
    "Here are some examples of how to interact with the MCP server through GitHub Copilot Chat:"
   ]
  },
  {
   "cell_type": "markdown",
   "metadata": {},
   "source": [
    "### 1. List Available Datasets\n",
    "\n",
    "Ask: \"Which datasets are available?\""
   ]
  },
  {
   "cell_type": "code",
   "execution_count": null,
   "metadata": {},
   "outputs": [],
   "source": [
    "# This cell will be populated by the MCP server\n",
    "# Example code that would be generated:\n",
    "import pyrsm as rsm\n",
    "\n",
    "# Get information about available datasets\n",
    "available_datasets = rsm.load_data()\n",
    "print(f\"Found {len(available_datasets[0])} datasets\")\n",
    "\n",
    "# Display the first few datasets\n",
    "list(available_datasets[0].keys())[:10]  # Show first 10 dataset names"
   ]
  },
  {
   "cell_type": "markdown",
   "metadata": {},
   "source": [
    "### 2. Load a Specific Dataset\n",
    "\n",
    "Ask: \"Load the demand_uk dataset\""
   ]
  },
  {
   "cell_type": "code",
   "execution_count": null,
   "metadata": {},
   "outputs": [],
   "source": [
    "# This cell will be populated by the MCP server\n",
    "# Example code that would be generated:\n",
    "import pyrsm as rsm\n",
    "\n",
    "# Load data into the current environment\n",
    "demand_uk, demand_uk_description = rsm.load_data(name=\"demand_uk\")\n",
    "\n",
    "# Display dataset information\n",
    "print(f\"Dataset: demand_uk\")\n",
    "print(f\"Shape: {demand_uk.shape}\")\n",
    "print(\"\\nFirst 5 rows:\")\n",
    "demand_uk.head()"
   ]
  },
  {
   "cell_type": "markdown",
   "metadata": {},
   "source": [
    "### 3. Ask a Data Analysis Question\n",
    "\n",
    "Ask: \"Is demand larger than 1750?\""
   ]
  },
  {
   "cell_type": "code",
   "execution_count": null,
   "metadata": {},
   "outputs": [],
   "source": [
    "# This cell will be populated by the MCP server\n",
    "# Example code that would be generated:\n",
    "import matplotlib.pyplot as plt\n",
    "\n",
    "# Calculate basic statistics\n",
    "column_data = demand_uk[\"demand\"]\n",
    "mean_value = column_data.mean()\n",
    "greater_than_count = (column_data > 1750).sum()\n",
    "percentage = (greater_than_count / len(column_data)) * 100\n",
    "\n",
    "# Display results\n",
    "print(f\"Mean of 'demand': {mean_value:.2f}\")\n",
    "print(\n",
    "    f\"Number of values greater than 1750: {greater_than_count} out of {len(column_data)}\"\n",
    ")\n",
    "print(f\"Percentage greater than 1750: {percentage:.2f}%\")\n",
    "\n",
    "# Create a histogram to visualize the distribution\n",
    "plt.figure(figsize=(10, 6))\n",
    "plt.hist(column_data, bins=20, alpha=0.7, color=\"skyblue\")\n",
    "plt.axvline(x=1750, color=\"red\", linestyle=\"--\", label=f\"Threshold: 1750\")\n",
    "plt.axvline(x=mean_value, color=\"green\", linestyle=\"-\", label=f\"Mean: {mean_value:.2f}\")\n",
    "plt.title(f\"Distribution of 'demand'\")\n",
    "plt.xlabel(\"demand\")\n",
    "plt.ylabel(\"Frequency\")\n",
    "plt.legend()\n",
    "plt.grid(True, alpha=0.3)\n",
    "plt.show()"
   ]
  },
  {
   "cell_type": "markdown",
   "metadata": {},
   "source": [
    "### 4. Correlation Analysis\n",
    "\n",
    "Ask: \"What's the correlation between price and demand?\""
   ]
  },
  {
   "cell_type": "code",
   "execution_count": null,
   "metadata": {},
   "outputs": [],
   "source": [
    "# This cell will be populated by the MCP server\n",
    "# Example code that would be generated:\n",
    "# Correlation analysis\n",
    "correlation_matrix = demand_uk.corr()\n",
    "\n",
    "# Display the correlation matrix\n",
    "print(\"Correlation Matrix:\")\n",
    "correlation_matrix\n",
    "\n",
    "# Visualize the correlation matrix\n",
    "import matplotlib.pyplot as plt\n",
    "import seaborn as sns\n",
    "\n",
    "plt.figure(figsize=(12, 10))\n",
    "sns.heatmap(correlation_matrix, annot=True, cmap=\"coolwarm\", fmt=\".2f\", linewidths=0.5)\n",
    "plt.title(\"Correlation Matrix\")\n",
    "plt.tight_layout()\n",
    "plt.show()"
   ]
  },
  {
   "cell_type": "markdown",
   "metadata": {},
   "source": [
    "## How It Works\n",
    "\n",
    "When you ask a question in GitHub Copilot Chat while this notebook is open:\n",
    "\n",
    "1. Copilot sends your question to the MCP server\n",
    "2. The server detects that you're in a Jupyter notebook context\n",
    "3. It generates Python code to answer your question\n",
    "4. The code is inserted into a notebook cell\n",
    "5. The cell is executed to show the results\n",
    "\n",
    "This allows for a natural language interface to data analysis with PYRSM!"
   ]
  }
 ],
 "metadata": {
  "kernelspec": {
   "display_name": "Python 3",
   "language": "python",
   "name": "python3"
  },
  "language_info": {
   "codemirror_mode": {
    "name": "ipython",
    "version": 3
   },
   "file_extension": ".py",
   "mimetype": "text/x-python",
   "name": "python",
   "nbconvert_exporter": "python",
   "pygments_lexer": "ipython3",
   "version": "3.12.0"
  }
 },
 "nbformat": 4,
 "nbformat_minor": 4
}
