{
 "cells": [
  {
   "cell_type": "code",
   "execution_count": 1,
   "id": "moved-teach",
   "metadata": {
    "tags": []
   },
   "outputs": [],
   "source": [
    "x = 2\n",
    "y = 3\n",
    "z = x - y"
   ]
  },
  {
   "cell_type": "code",
   "execution_count": 2,
   "id": "normal-architect",
   "metadata": {
    "tags": []
   },
   "outputs": [],
   "source": [
    "import pyrsm as rsm"
   ]
  },
  {
   "cell_type": "code",
   "execution_count": 3,
   "id": "equal-nitrogen",
   "metadata": {},
   "outputs": [],
   "source": [
    "rsm.save_state(globals(), \"save-load.state.pkl\")"
   ]
  },
  {
   "cell_type": "code",
   "execution_count": 4,
   "id": "active-offense",
   "metadata": {},
   "outputs": [],
   "source": [
    "del x, y, z"
   ]
  },
  {
   "cell_type": "code",
   "execution_count": 5,
   "id": "fatal-chemical",
   "metadata": {},
   "outputs": [
    {
     "name": "stdout",
     "output_type": "stream",
     "text": [
      "name 'x' is not defined\n"
     ]
    }
   ],
   "source": [
    "try:\n",
    "    print(x)\n",
    "except Exception as err:\n",
    "    print(err)"
   ]
  },
  {
   "cell_type": "markdown",
   "id": "f313ba19",
   "metadata": {},
   "source": [
    "Use `rsm.load_state` to either return a dictionary of the objects you stored, or add them to `globals()` for easy access"
   ]
  },
  {
   "cell_type": "code",
   "execution_count": 6,
   "id": "extended-chapel",
   "metadata": {},
   "outputs": [],
   "source": [
    "rsm.load_state(\"save-load.state.pkl\", globals())"
   ]
  },
  {
   "cell_type": "code",
   "execution_count": 7,
   "id": "surface-nudist",
   "metadata": {},
   "outputs": [
    {
     "data": {
      "text/plain": [
       "2"
      ]
     },
     "execution_count": 7,
     "metadata": {},
     "output_type": "execute_result"
    }
   ],
   "source": [
    "x"
   ]
  },
  {
   "cell_type": "markdown",
   "id": "6933cef5",
   "metadata": {},
   "source": [
    "If your notebook contains objects that cannot be pickled, you can save just the objects you want to keep as follows"
   ]
  },
  {
   "cell_type": "code",
   "execution_count": 8,
   "id": "ec6ae179",
   "metadata": {},
   "outputs": [],
   "source": [
    "rsm.save_state({\"x\": x, \"y\": y, \"z\": z}, \"objects-to-keep.state.pkl\")"
   ]
  },
  {
   "cell_type": "code",
   "execution_count": 9,
   "id": "72a43547",
   "metadata": {},
   "outputs": [],
   "source": [
    "del x, y, z"
   ]
  },
  {
   "cell_type": "code",
   "execution_count": 10,
   "id": "b65a98f2",
   "metadata": {},
   "outputs": [
    {
     "name": "stdout",
     "output_type": "stream",
     "text": [
      "name 'x' is not defined\n"
     ]
    }
   ],
   "source": [
    "try:\n",
    "    print(x)\n",
    "except Exception as err:\n",
    "    print(err)"
   ]
  },
  {
   "cell_type": "code",
   "execution_count": 11,
   "id": "f1395479",
   "metadata": {},
   "outputs": [
    {
     "data": {
      "text/plain": [
       "{'x': 2, 'y': 3, 'z': -1}"
      ]
     },
     "execution_count": 11,
     "metadata": {},
     "output_type": "execute_result"
    }
   ],
   "source": [
    "rsm.load_state(\"objects-to-keep.state.pkl\")"
   ]
  },
  {
   "cell_type": "code",
   "execution_count": null,
   "id": "7d23501f",
   "metadata": {},
   "outputs": [],
   "source": [
    "# cleaning up ...\n",
    "import os\n",
    "\n",
    "os.remove(\"save-load.state.pkl\")\n",
    "os.remove(\"objects-to-keep.state.pkl\")"
   ]
  }
 ],
 "metadata": {
  "kernelspec": {
   "display_name": "pyrsm",
   "language": "python",
   "name": "python3"
  },
  "language_info": {
   "codemirror_mode": {
    "name": "ipython",
    "version": 3
   },
   "file_extension": ".py",
   "mimetype": "text/x-python",
   "name": "python",
   "nbconvert_exporter": "python",
   "pygments_lexer": "ipython3",
   "version": "3.11.7"
  }
 },
 "nbformat": 4,
 "nbformat_minor": 5
}
