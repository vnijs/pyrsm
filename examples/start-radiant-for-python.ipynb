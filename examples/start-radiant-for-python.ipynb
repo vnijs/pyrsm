{
 "cells": [
  {
   "cell_type": "markdown",
   "id": "6aec986b-9bbe-4876-9801-856521f75ae8",
   "metadata": {},
   "source": [
    "# Radiant for Python\n",
    "\n",
    "Start radiant using the command below. The site will run on `http://0.0.0.0:8000`. Note radiant will treat the location of the notebook as the base directory to work from. Stop radiant by clicking on the Stop button in the navigation bar"
   ]
  },
  {
   "cell_type": "code",
   "execution_count": 3,
   "id": "d9d1b325",
   "metadata": {},
   "outputs": [
    {
     "data": {
      "text/markdown": [
       "```python\n",
       "import pyrsm as rsm\n",
       "\n",
       "pc = rsm.basics.prob_calc(\"binom\", n=10, p=0.2)\n",
       "pc.summary()\n",
       "pc.plot()\n",
       "\n",
       "```"
      ],
      "text/plain": [
       "<IPython.core.display.Markdown object>"
      ]
     },
     "metadata": {},
     "output_type": "display_data"
    }
   ],
   "source": [
    "import pyrsm as rsm\n",
    "\n",
    "rsm.radiant.basics.prob_calc()"
   ]
  },
  {
   "cell_type": "markdown",
   "id": "9ee47ef7",
   "metadata": {},
   "source": [
    "An app that launches all apps in one bundle is in progress. In the meantime, check out the individual apps you can launch (https://github.com/vnijs/pyrsm/tree/main/examples). Check back soon ..."
   ]
  }
 ],
 "metadata": {
  "kernelspec": {
   "display_name": "Python 3",
   "language": "python",
   "name": "python3"
  },
  "language_info": {
   "codemirror_mode": {
    "name": "ipython",
    "version": 3
   },
   "file_extension": ".py",
   "mimetype": "text/x-python",
   "name": "python",
   "nbconvert_exporter": "python",
   "pygments_lexer": "ipython3",
   "version": "3.12.7"
  }
 },
 "nbformat": 4,
 "nbformat_minor": 5
}
