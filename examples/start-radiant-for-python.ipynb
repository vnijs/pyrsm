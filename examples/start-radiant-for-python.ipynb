{
 "cells": [
  {
   "cell_type": "markdown",
   "id": "6aec986b-9bbe-4876-9801-856521f75ae8",
   "metadata": {},
   "source": [
    "# Radiant for Python\n",
    "\n",
    "<div class=\"alert alert-info\">Note: Make sure you are running a Python Jupyter-kernel</div>\n",
    "\n",
    "Start radiant using the command below. The site will run on `http://0.0.0.0:8000`. Note radiant will treat the location of the notebook as the base directory to work from. Stop radiant by clicking on the power-icon in the navigation bar and then on Stop"
   ]
  },
  {
   "cell_type": "markdown",
   "id": "9ee47ef7",
   "metadata": {},
   "source": [
    "WIP App that launches all apps in one bundle is in progress. In the meantime, check out the individual apps you can launch (https://github.com/vnijs/pyrsm/tree/main/examples). Check back soon ..."
   ]
  }
 ],
 "metadata": {
  "kernelspec": {
   "display_name": "pyrsm",
   "language": "python",
   "name": "pyrsm"
  },
  "language_info": {
   "codemirror_mode": "r",
   "file_extension": ".r",
   "mimetype": "text/x-r-source",
   "name": "python",
   "pygments_lexer": "r",
   "version": "3.11.7"
  }
 },
 "nbformat": 4,
 "nbformat_minor": 5
}
