{
 "cells": [
  {
   "cell_type": "markdown",
   "id": "indoor-basket",
   "metadata": {},
   "source": [
    "# Basics > Goodness of fit"
   ]
  },
  {
   "cell_type": "markdown",
   "id": "removed-insert",
   "metadata": {},
   "source": [
    "<div class=\"alert alert-info\">Evaluate the discrete distribution of a categorical variable</div>\n",
    "\n",
    "A goodness of fit test is a statistical hypothesis test that compares observed data with the expected data according to a specific model or distribution. It is used to determine if the sample data is a good fit to the expected theoretical or expected distribution.\n",
    "\n",
    "The test essentially evaluates whether there is a significant difference between the observed frequency and the expected frequency in one or more categories of a contingency or frequency table. The expected frequency is what we would expect to observe if the null hypothesis of no difference is true.\n",
    "\n",
    "The most common type of goodness of fit test is the chi-square goodness of fit test. It is based on the chi-square statistic, which follows a chi-square distribution when the null hypothesis is true. The chi-square statistic is calculated by summing the squared difference between observed and expected frequencies, divided by the expected frequency, for each category.\n",
    "\n",
    "The null hypothesis (H0) for a goodness of fit test usually states that the data follows a certain distribution or that the proportions of categories in the data follow specified proportions. The alternative hypothesis (Ha) is that the data does not follow the proposed distribution or the proportions are not as specified.\n",
    "\n",
    "If the p-value of the test is below a pre-specified significance level (usually 0.05), the null hypothesis is rejected, indicating that the data does not fit the proposed model well. If the p-value is above the significance level, there is insufficient evidence to reject the null hypothesis, and we conclude that the data fits the proposed model."
   ]
  },
  {
   "cell_type": "code",
   "execution_count": 1,
   "id": "prostate-rescue",
   "metadata": {},
   "outputs": [],
   "source": [
    "import matplotlib as mpl\n",
    "import pyrsm as rsm\n",
    "\n",
    "# increase plot resolution\n",
    "mpl.rcParams[\"figure.dpi\"] = 100"
   ]
  },
  {
   "cell_type": "code",
   "execution_count": 2,
   "id": "58da7a64",
   "metadata": {},
   "outputs": [],
   "source": [
    "## setup pyrsm for autoreload\n",
    "%reload_ext autoreload\n",
    "%autoreload 2\n",
    "%aimport pyrsm"
   ]
  },
  {
   "cell_type": "markdown",
   "id": "84271bcd",
   "metadata": {},
   "source": [
    "### Example\n",
    "\n",
    "The data are from a sample of 580 newspaper readers that indicated (1) which newspaper they read most frequently (USA today or Wall Street Journal) and (2) their level of income (Low income vs. High income). The data has three variables: A respondent identifier (id), respondent income (High or Low), and the primary newspaper the respondent reads (USA today or Wall Street Journal).\n",
    "\n",
    "We will examine if the observed frequencies of newspaper preference match the expected frequencies, e.g., equal frequency, indicating a good fit. In particular, we conduct a goodness of fit test with the following null and alternative hypotheses:\n",
    "\n",
    "* H0: The observed frequencies of income level (high/low) matches the expected frequencies (50-50).\n",
    "* Ha: The observed frequencies of income level (high/low) does not match the expected frequencies\n",
    "\n",
    "If the null-hypothesis is rejected, it suggests that the model is not a good fit and we can investigate which cell(s) contribute to the deviation from expected frequencies. To conduct this test, we will choose Income as the categorical variable of interest. This test involves assessing the size of the difference between the observed and expected frequencies. The expected frequencies are calculated under the assumption of H0 (i.e., a good fit) as (Row total x Column Total) /  Overall Total."
   ]
  },
  {
   "cell_type": "code",
   "execution_count": 3,
   "id": "american-guyana",
   "metadata": {},
   "outputs": [
    {
     "data": {
      "text/html": [
       "<div>\n",
       "<style scoped>\n",
       "    .dataframe tbody tr th:only-of-type {\n",
       "        vertical-align: middle;\n",
       "    }\n",
       "\n",
       "    .dataframe tbody tr th {\n",
       "        vertical-align: top;\n",
       "    }\n",
       "\n",
       "    .dataframe thead th {\n",
       "        text-align: right;\n",
       "    }\n",
       "</style>\n",
       "<table border=\"1\" class=\"dataframe\">\n",
       "  <thead>\n",
       "    <tr style=\"text-align: right;\">\n",
       "      <th></th>\n",
       "      <th>id</th>\n",
       "      <th>Income</th>\n",
       "      <th>Newspaper</th>\n",
       "    </tr>\n",
       "  </thead>\n",
       "  <tbody>\n",
       "    <tr>\n",
       "      <th>0</th>\n",
       "      <td>1</td>\n",
       "      <td>Low Income</td>\n",
       "      <td>USA Today</td>\n",
       "    </tr>\n",
       "    <tr>\n",
       "      <th>1</th>\n",
       "      <td>2</td>\n",
       "      <td>Low Income</td>\n",
       "      <td>USA Today</td>\n",
       "    </tr>\n",
       "    <tr>\n",
       "      <th>2</th>\n",
       "      <td>3</td>\n",
       "      <td>Low Income</td>\n",
       "      <td>USA Today</td>\n",
       "    </tr>\n",
       "    <tr>\n",
       "      <th>3</th>\n",
       "      <td>4</td>\n",
       "      <td>High Income</td>\n",
       "      <td>USA Today</td>\n",
       "    </tr>\n",
       "    <tr>\n",
       "      <th>4</th>\n",
       "      <td>5</td>\n",
       "      <td>Low Income</td>\n",
       "      <td>USA Today</td>\n",
       "    </tr>\n",
       "    <tr>\n",
       "      <th>...</th>\n",
       "      <td>...</td>\n",
       "      <td>...</td>\n",
       "      <td>...</td>\n",
       "    </tr>\n",
       "    <tr>\n",
       "      <th>575</th>\n",
       "      <td>576</td>\n",
       "      <td>Low Income</td>\n",
       "      <td>USA Today</td>\n",
       "    </tr>\n",
       "    <tr>\n",
       "      <th>576</th>\n",
       "      <td>577</td>\n",
       "      <td>High Income</td>\n",
       "      <td>WS Journal</td>\n",
       "    </tr>\n",
       "    <tr>\n",
       "      <th>577</th>\n",
       "      <td>578</td>\n",
       "      <td>High Income</td>\n",
       "      <td>WS Journal</td>\n",
       "    </tr>\n",
       "    <tr>\n",
       "      <th>578</th>\n",
       "      <td>579</td>\n",
       "      <td>Low Income</td>\n",
       "      <td>USA Today</td>\n",
       "    </tr>\n",
       "    <tr>\n",
       "      <th>579</th>\n",
       "      <td>580</td>\n",
       "      <td>High Income</td>\n",
       "      <td>WS Journal</td>\n",
       "    </tr>\n",
       "  </tbody>\n",
       "</table>\n",
       "<p>580 rows × 3 columns</p>\n",
       "</div>"
      ],
      "text/plain": [
       "      id       Income   Newspaper\n",
       "0      1   Low Income   USA Today\n",
       "1      2   Low Income   USA Today\n",
       "2      3   Low Income   USA Today\n",
       "3      4  High Income   USA Today\n",
       "4      5   Low Income   USA Today\n",
       "..   ...          ...         ...\n",
       "575  576   Low Income   USA Today\n",
       "576  577  High Income  WS Journal\n",
       "577  578  High Income  WS Journal\n",
       "578  579   Low Income   USA Today\n",
       "579  580  High Income  WS Journal\n",
       "\n",
       "[580 rows x 3 columns]"
      ]
     },
     "execution_count": 3,
     "metadata": {},
     "output_type": "execute_result"
    }
   ],
   "source": [
    "# load example data from the pyrsm library\n",
    "newspaper, newspaper_description = rsm.load_data(pkg=\"basics\", name=\"newspaper\")\n",
    "newspaper"
   ]
  },
  {
   "cell_type": "code",
   "execution_count": 4,
   "id": "encouraging-event",
   "metadata": {},
   "outputs": [
    {
     "data": {
      "text/markdown": [
       "## Newspaper readership\n",
       "\n",
       "### Description\n",
       "\n",
       "Data from a sample for 580 newspaper readers indicating which newspaper they read most frequently (USA today or Wall Street Journal) and their level of income (Low income vs. High income).\n",
       "\n",
       "### Variables\n",
       "\n",
       "A data frame with 580 observations on 3 variables\n",
       "\n",
       "- id = Respondent identifier\n",
       "- Income = A factor indicating if a respondent has High or Low income. Factor was created using a median split on income data\n",
       "- Newspaper = A factor indicating the primary newspaper the respondent reads (USA today or Wall Street Journal)"
      ],
      "text/plain": [
       "<IPython.core.display.Markdown object>"
      ]
     },
     "metadata": {},
     "output_type": "display_data"
    }
   ],
   "source": [
    "# format the data description\n",
    "rsm.md(newspaper_description)"
   ]
  },
  {
   "cell_type": "markdown",
   "id": "changing-ottawa",
   "metadata": {},
   "source": [
    "To create a `goodness` object use `rsm.basics.goodness`. The created object has attributes and methods that you can use to get the information you need. For example. the `.expected` attribute shows the expected values under the null-hypothesis as a Pandas DataFrame."
   ]
  },
  {
   "cell_type": "code",
   "execution_count": 5,
   "id": "mexican-revelation",
   "metadata": {},
   "outputs": [],
   "source": [
    "gf = rsm.basics.goodness({\"newspaper\": newspaper}, var=\"Income\")"
   ]
  },
  {
   "cell_type": "code",
   "execution_count": 6,
   "id": "statistical-salon",
   "metadata": {},
   "outputs": [
    {
     "data": {
      "text/html": [
       "<div>\n",
       "<style scoped>\n",
       "    .dataframe tbody tr th:only-of-type {\n",
       "        vertical-align: middle;\n",
       "    }\n",
       "\n",
       "    .dataframe tbody tr th {\n",
       "        vertical-align: top;\n",
       "    }\n",
       "\n",
       "    .dataframe thead th {\n",
       "        text-align: right;\n",
       "    }\n",
       "</style>\n",
       "<table border=\"1\" class=\"dataframe\">\n",
       "  <thead>\n",
       "    <tr style=\"text-align: right;\">\n",
       "      <th></th>\n",
       "      <th>High Income</th>\n",
       "      <th>Low Income</th>\n",
       "      <th>Total</th>\n",
       "    </tr>\n",
       "  </thead>\n",
       "  <tbody>\n",
       "    <tr>\n",
       "      <th>0</th>\n",
       "      <td>221</td>\n",
       "      <td>359</td>\n",
       "      <td>580</td>\n",
       "    </tr>\n",
       "  </tbody>\n",
       "</table>\n",
       "</div>"
      ],
      "text/plain": [
       "   High Income  Low Income  Total\n",
       "0          221         359    580"
      ]
     },
     "execution_count": 6,
     "metadata": {},
     "output_type": "execute_result"
    }
   ],
   "source": [
    "gf.observed"
   ]
  },
  {
   "cell_type": "code",
   "execution_count": 7,
   "id": "loving-provincial",
   "metadata": {},
   "outputs": [
    {
     "data": {
      "text/html": [
       "<div>\n",
       "<style scoped>\n",
       "    .dataframe tbody tr th:only-of-type {\n",
       "        vertical-align: middle;\n",
       "    }\n",
       "\n",
       "    .dataframe tbody tr th {\n",
       "        vertical-align: top;\n",
       "    }\n",
       "\n",
       "    .dataframe thead th {\n",
       "        text-align: right;\n",
       "    }\n",
       "</style>\n",
       "<table border=\"1\" class=\"dataframe\">\n",
       "  <thead>\n",
       "    <tr style=\"text-align: right;\">\n",
       "      <th></th>\n",
       "      <th>High Income</th>\n",
       "      <th>Low Income</th>\n",
       "      <th>Total</th>\n",
       "    </tr>\n",
       "  </thead>\n",
       "  <tbody>\n",
       "    <tr>\n",
       "      <th>0</th>\n",
       "      <td>290.0</td>\n",
       "      <td>290.0</td>\n",
       "      <td>580.0</td>\n",
       "    </tr>\n",
       "  </tbody>\n",
       "</table>\n",
       "</div>"
      ],
      "text/plain": [
       "   High Income  Low Income  Total\n",
       "0        290.0       290.0  580.0"
      ]
     },
     "execution_count": 7,
     "metadata": {},
     "output_type": "execute_result"
    }
   ],
   "source": [
    "gf.expected.round(2)"
   ]
  },
  {
   "cell_type": "markdown",
   "id": "behind-conspiracy",
   "metadata": {},
   "source": [
    "`goodness` objects have two methods: `summary()` and `plot()`. "
   ]
  },
  {
   "cell_type": "code",
   "execution_count": 8,
   "id": "subsequent-skating",
   "metadata": {},
   "outputs": [
    {
     "name": "stdout",
     "output_type": "stream",
     "text": [
      "Goodness of fit test\n",
      "Data         : newspaper\n",
      "Variable     : Income\n",
      "Probabilities: 0.5 0.5\n",
      "Null hyp.    : The distribution of Income is consistent with the specified distribution\n",
      "Alt. hyp.    : The distribution of Income is not consistent with the specified distribution\n",
      "\n",
      "Observed:\n",
      " High Income  Low Income  Total\n",
      "         221         359    580\n",
      "\n",
      "Expected: total x p\n",
      " High Income  Low Income  Total\n",
      "       290.0       290.0  580.0\n",
      "\n",
      "Contribution to chi-squared: (observed - expected) ^ 2 / expected\n",
      " High Income  Low Income  Total\n",
      "       16.42       16.42  32.84\n",
      "\n",
      "Chi-squared: 32.834 df (1), p.value < .001\n"
     ]
    }
   ],
   "source": [
    "gf.summary(output=[\"observed\", \"expected\", \"chisq\"])"
   ]
  },
  {
   "cell_type": "markdown",
   "id": "compound-filter",
   "metadata": {},
   "source": [
    "The (Pearson) chi-squared test evaluates if we can reject the null-hypothesis that the categorical variable is distributed as specified under the null hypothesis. It does so by comparing the observed frequencies (i.e., what we actually see in the data) to the expected frequencies (i.e., what we would expect to see if the two variables were independent). If there are big differences between the table of expected and observed frequencies, the chi-square value will be _large_. The chi-square value for each cell is calculated as $(o - e)^2 / e$, where $o$ is the observed frequency in a cell and $e$ is the expected frequency in that cell if the null hypothesis holds. These chi-square values can be shown by adding `output=\"chisq\"` as an argument to the `.summary()` method of a `goodness` object. The overall chi-square value is obtained by summing the chi-square values across all cells, i.e., it is the sum of the values shown in the _Contribution to chi-squared_ table.\n",
    "\n",
    "In order to determine if the overall chi-square statistics can be considered _large_ we first determine the degrees of freedom (df). In particular: $df = (\\# \\text{groups in the data} - 1)$. In a 1x5 table, we have $(5-1) = 4$ df. The output from `gf.summary()` shows the value of the chi-square statistic, the associated df, and the p.value associated with the test.\n",
    "\n",
    "Remember to check the expected values: All expected frequencies are larger than 5 therefore the p.value for the chi-square statistic is unlikely to be biased. As usual we reject the null-hypothesis when the p.value is smaller 0.05. Since our p.value is very small (< .001) we can reject the null-hypothesis (i.e., suggests that the frequency of income level is not evenly distributed).\n",
    "\n",
    "We can use the provided p.value associated with the Chi-squared value of 32.84 to evaluate the null hypothesis. However, we can also calculate the critical Chi-squared value using the probability calculator in in the `pyrsm` package. As we can see from the output below, that value is 3.841 if we choose a 95% confidence level. Because the calculated Chi-square value is larger than the critical value (32.384 > 3.841) we reject null hypothesis that newspaper readership is evenly distributed."
   ]
  },
  {
   "cell_type": "code",
   "execution_count": null,
   "id": "6d1f3dcb",
   "metadata": {},
   "outputs": [
    {
     "name": "stdout",
     "output_type": "stream",
     "text": [
      "Probability calculator\n",
      "Distribution: Chi-square\n",
      "Df          : 1\n",
      "Mean        : 1\n",
      "Variance    : 2\n",
      "Lower bound : 0\n",
      "Upper bound : 0.95\n",
      "\n",
      "P(X < 3.841) = 0.95\n",
      "P(X > 3.841) = 0.05\n"
     ]
    },
    {
     "data": {
      "image/png": "[encoded data removed]",
      "text/plain": [
       "<Figure size 640x480 with 1 Axes>"
      ]
     },
     "metadata": {},
     "output_type": "display_data"
    }
   ],
   "source": [
    "pc = rsm.basics.prob_calc(\"chisq\", df=1, pub=0.95)\n",
    "pc.summary()\n",
    "pc.plot()"
   ]
  },
  {
   "cell_type": "markdown",
   "id": "correct-bible",
   "metadata": {},
   "source": [
    "We can also use the probability calculator to determine the p.value associated with the calculated Chi-square value. Consistent with the output from the `.summary()` method shown above this `p.value` is `< .001`."
   ]
  },
  {
   "cell_type": "code",
   "execution_count": 10,
   "id": "centered-printing",
   "metadata": {},
   "outputs": [
    {
     "name": "stdout",
     "output_type": "stream",
     "text": [
      "Probability calculator\n",
      "Distribution: Chi-square\n",
      "Df          : 1\n",
      "Mean        : 1\n",
      "Variance    : 2\n",
      "Lower bound : 0\n",
      "Upper bound : 32.84\n",
      "\n",
      "P(X < 32.84) = 1.0\n",
      "P(X > 32.84) = 0.0\n"
     ]
    },
    {
     "data": {
      "image/png": "[encoded data removed]",
      "text/plain": [
       "<Figure size 640x480 with 1 Axes>"
      ]
     },
     "metadata": {},
     "output_type": "display_data"
    }
   ],
   "source": [
    "pc = rsm.basics.prob_calc(\"chisq\", df=1, ub=32.84)\n",
    "pc.summary()\n",
    "pc.plot()"
   ]
  },
  {
   "cell_type": "markdown",
   "id": "vanilla-endorsement",
   "metadata": {},
   "source": [
    "In addition to the numerical output provided by the `.summary()` method we can evaluate the hypothesis visually using the `.plot()` method of the `goodness` object. In addition to the distribution of observed and expected frequencies, we will also plot the standardized deviations (i.e., standardized differences between the observed and expected table). This measure is calculated as $(o-e)/sqrt(e)$, i.e., a score of how different the observed and expected frequencies in one cell in our table are. When a cell's standardized deviation is greater than 1.96 (in absolute value) the cell has a significant deviation from the model of equal frequency."
   ]
  },
  {
   "cell_type": "code",
   "execution_count": 11,
   "id": "environmental-electricity",
   "metadata": {},
   "outputs": [
    {
     "data": {
      "image/png": "[encoded data removed]",
      "text/plain": [
       "<Figure size 640x480 with 1 Axes>"
      ]
     },
     "metadata": {},
     "output_type": "display_data"
    },
    {
     "data": {
      "image/png": "[encoded data removed]",
      "text/plain": [
       "<Figure size 640x480 with 1 Axes>"
      ]
     },
     "metadata": {},
     "output_type": "display_data"
    },
    {
     "data": {
      "image/png": "[encoded data removed]",
      "text/plain": [
       "<Figure size 640x480 with 1 Axes>"
      ]
     },
     "metadata": {},
     "output_type": "display_data"
    },
    {
     "data": {
      "image/png": "[encoded data removed]",
      "text/plain": [
       "<Figure size 640x480 with 1 Axes>"
      ]
     },
     "metadata": {},
     "output_type": "display_data"
    }
   ],
   "source": [
    "gf.plot(plots=[\"observed\", \"expected\", \"chisq\", \"dev_std\"])"
   ]
  },
  {
   "cell_type": "markdown",
   "id": "coupled-surveillance",
   "metadata": {},
   "source": [
    "In the last plot above we see that both cells contribute to deviation from the expected distribution as both standardized deviations are larger than 1.96 in absolute value (i.e., the bars extend beyond the outer dotted line in the plot).\n",
    "\n",
    "In other words, there seem to be fewer high income respondents and more high income respondents than expected if the null hypothesis of equal distribution were true.\n",
    "\n",
    "### Technical note\n",
    "\n",
    "When one or more expected values are small (e.g., 5 or less) the p.value for the Chi-squared test is biased and it may be necessary to _collapse_ categories and recalculate the test statistic."
   ]
  },
  {
   "cell_type": "markdown",
   "id": "f0794705",
   "metadata": {},
   "source": [
    "# Radiant for Python App: Goodness\n",
    "\n",
    "Now lets re-run the analysis using a web-based user interface. Select `Income` as the categorical variable of interest. This test amounts to evaluating the size of the difference between the observed and expected frequencies. The expected frequencies are calculated using H0 (i.e., equal distribution) as (Row total x Column Total) /  Overall Total\n",
    "\n",
    "Select `Observed`, `Expected`, and `Chi-squared` as the output tables to create. The (Pearson) chi-squared test evaluates if we can reject the null-hypothesis that the two variables are independent. It does so by comparing the observed frequencies (i.e., what we actually see in the data) to the expected frequencies (i.e., what we would expect to see if the two variables were independent). If there are big differences between the table of expected and observed frequencies, the chi-square value will be _large_. The chi-square value for each cell is calculated as $(o - e)^2 / e$, where $o$ is the observed frequency in a cell and $e$ is the expected frequency in that cell if the null hypothesis holds. These chi-square values can be shown by adding `output=\"chisq\"` as an argument to the `summary()` method of a `cross_tab` object. The overall chi-square value is obtained by summing the chi-square values across all cells, i.e., it is the sum of the values shown in the _Contribution to chi-squared_ table.\n",
    "\n",
    "> Note: The app will continue running until you press the `Stop` button in the app navigation bar or the stop button next to the notebook cell"
   ]
  },
  {
   "cell_type": "code",
   "execution_count": 12,
   "id": "ade629e8",
   "metadata": {},
   "outputs": [
    {
     "name": "stdout",
     "output_type": "stream",
     "text": [
      "Listening on http://localhost:8000\n",
      "Pyrsm and Radiant are open source tools and free to use. If you\n",
      "are a student or instructor using pyrsm or Radiant for a class,\n",
      "as a favor to the developers, please send an email to\n",
      "<radiant@rady.ucsd.edu> with the name of the school and class.\n",
      "If you are using Radiant in your company, as a favor to the\n",
      "developer, please share the name of your company and what types\n",
      "of activites you are supporting with the tool.\n"
     ]
    },
    {
     "data": {
      "text/markdown": [
       "```python\n",
       "import pyrsm as rsm\n",
       "\n",
       "# newspaper = pd.read_parquet('newspaper.parquet')\n",
       "gf = rsm.basics.goodness(data={\"newspaper\": newspaper}, var=\"Income\")\n",
       "gf.summary(output=[\"observed\", \"expected\", \"chisq\"])\n",
       "\n",
       "```"
      ],
      "text/plain": [
       "<IPython.core.display.Markdown object>"
      ]
     },
     "metadata": {},
     "output_type": "display_data"
    }
   ],
   "source": [
    "rsm.radiant.basics.goodness({\"newspaper\": newspaper}, {\"newspaper\": newspaper_description}, code=True)"
   ]
  },
  {
   "cell_type": "markdown",
   "id": "e8f2da2c",
   "metadata": {},
   "source": [
    "<p align=\"center\">\n",
    "<img src=\"figures/goodness-summary.png\">\n",
    "</p>"
   ]
  },
  {
   "cell_type": "markdown",
   "id": "f996ff3b",
   "metadata": {},
   "source": [
    "© Vincent Nijs (2024)"
   ]
  }
 ],
 "metadata": {
  "kernelspec": {
   "display_name": "pyrsm",
   "language": "python",
   "name": "python3"
  },
  "language_info": {
   "codemirror_mode": {
    "name": "ipython",
    "version": 3
   },
   "file_extension": ".py",
   "mimetype": "text/x-python",
   "name": "python",
   "nbconvert_exporter": "python",
   "pygments_lexer": "ipython3",
   "version": "3.12.7"
  }
 },
 "nbformat": 4,
 "nbformat_minor": 5
}
