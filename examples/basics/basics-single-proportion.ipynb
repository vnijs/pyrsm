{
 "cells": [
  {
   "attachments": {},
   "cell_type": "markdown",
   "metadata": {},
   "source": [
    "# Basics > Proportions > Single Proportion\n",
    "\n",
    "<div class=\"alert alert-info\">Compare a single proportion to the population proportion</div>\n",
    "\n",
    "The single proportion (or one-sample) binomial test is used to compare a proportion of responses or values in a sample of data to a (hypothesized) proportion in the population from which our sample data are drawn. This is important because we seldom have access to data for an entire population. The hypothesized value in the population is specified in the `Comparison value` box.\n",
    "\n",
    "We can perform either a one-sided test (i.e., `less than` or `greater than`) or a two-sided test (see the `Alternative hypothesis` dropdown). We use one-sided tests to evaluate if the available data provide evidence that a sample proportion is larger (or smaller) than the comparison value (i.e., the population value in the null-hypothesis)."
   ]
  },
  {
   "cell_type": "code",
   "execution_count": 1,
   "metadata": {},
   "outputs": [],
   "source": [
    "import matplotlib as mpl\n",
    "import pyrsm as rsm\n",
    "\n",
    "# increase plot resolution\n",
    "mpl.rcParams[\"figure.dpi\"] = 100"
   ]
  },
  {
   "cell_type": "code",
   "execution_count": 2,
   "metadata": {},
   "outputs": [],
   "source": [
    "## setup pyrsm for autoreload\n",
    "%reload_ext autoreload\n",
    "%autoreload 2\n",
    "%aimport pyrsm"
   ]
  },
  {
   "attachments": {},
   "cell_type": "markdown",
   "metadata": {},
   "source": [
    "# Example\n",
    "\n",
    "A car manufacturer conducted a study by randomly sampling and interviewing 1,000 consumers in a new target market. The goal of the study was to determine if consumers would consider purchasing this brand of car.\n",
    "\n",
    "Management has already determined that the company will enter this segment. However, if brand preference is lower than 10% additional resources will be committed to advertising and sponsorship in an effort to enhance brand awareness among the target consumers. In the sample, 93 consumers exhibited what the company considered strong brand liking.\n",
    "\n",
    "You can find information on the responses by survey participants in the consider.parquet data set. The data set contains two variables, `id` and `consider`."
   ]
  },
  {
   "cell_type": "code",
   "execution_count": 3,
   "metadata": {},
   "outputs": [
    {
     "data": {
      "text/html": [
       "<div>\n",
       "<style scoped>\n",
       "    .dataframe tbody tr th:only-of-type {\n",
       "        vertical-align: middle;\n",
       "    }\n",
       "\n",
       "    .dataframe tbody tr th {\n",
       "        vertical-align: top;\n",
       "    }\n",
       "\n",
       "    .dataframe thead th {\n",
       "        text-align: right;\n",
       "    }\n",
       "</style>\n",
       "<table border=\"1\" class=\"dataframe\">\n",
       "  <thead>\n",
       "    <tr style=\"text-align: right;\">\n",
       "      <th></th>\n",
       "      <th>id</th>\n",
       "      <th>consider</th>\n",
       "    </tr>\n",
       "  </thead>\n",
       "  <tbody>\n",
       "    <tr>\n",
       "      <th>0</th>\n",
       "      <td>1375</td>\n",
       "      <td>no</td>\n",
       "    </tr>\n",
       "    <tr>\n",
       "      <th>1</th>\n",
       "      <td>3518</td>\n",
       "      <td>no</td>\n",
       "    </tr>\n",
       "    <tr>\n",
       "      <th>2</th>\n",
       "      <td>1373</td>\n",
       "      <td>no</td>\n",
       "    </tr>\n",
       "    <tr>\n",
       "      <th>3</th>\n",
       "      <td>1049</td>\n",
       "      <td>no</td>\n",
       "    </tr>\n",
       "    <tr>\n",
       "      <th>4</th>\n",
       "      <td>3725</td>\n",
       "      <td>no</td>\n",
       "    </tr>\n",
       "    <tr>\n",
       "      <th>...</th>\n",
       "      <td>...</td>\n",
       "      <td>...</td>\n",
       "    </tr>\n",
       "    <tr>\n",
       "      <th>995</th>\n",
       "      <td>2101</td>\n",
       "      <td>no</td>\n",
       "    </tr>\n",
       "    <tr>\n",
       "      <th>996</th>\n",
       "      <td>2929</td>\n",
       "      <td>no</td>\n",
       "    </tr>\n",
       "    <tr>\n",
       "      <th>997</th>\n",
       "      <td>2647</td>\n",
       "      <td>no</td>\n",
       "    </tr>\n",
       "    <tr>\n",
       "      <th>998</th>\n",
       "      <td>1664</td>\n",
       "      <td>no</td>\n",
       "    </tr>\n",
       "    <tr>\n",
       "      <th>999</th>\n",
       "      <td>2955</td>\n",
       "      <td>no</td>\n",
       "    </tr>\n",
       "  </tbody>\n",
       "</table>\n",
       "<p>1000 rows × 2 columns</p>\n",
       "</div>"
      ],
      "text/plain": [
       "       id consider\n",
       "0    1375       no\n",
       "1    3518       no\n",
       "2    1373       no\n",
       "3    1049       no\n",
       "4    3725       no\n",
       "..    ...      ...\n",
       "995  2101       no\n",
       "996  2929       no\n",
       "997  2647       no\n",
       "998  1664       no\n",
       "999  2955       no\n",
       "\n",
       "[1000 rows x 2 columns]"
      ]
     },
     "execution_count": 3,
     "metadata": {},
     "output_type": "execute_result"
    }
   ],
   "source": [
    "consider, consider_description = rsm.load_data(pkg=\"basics\", name=\"consider\")\n",
    "consider"
   ]
  },
  {
   "cell_type": "code",
   "execution_count": 4,
   "metadata": {},
   "outputs": [
    {
     "data": {
      "text/markdown": [
       "## Car brand consideration \n",
       "\n",
       "### Description\n",
       "\n",
       "A car manufacturers conducted a study by randomly sampling and interviewing 1,000 consumers in a new target market to determine if consumers would consider purchasing this brand of car.\n",
       "\n",
       "Management has already determined that the company will enter this segment. However, if brand preference is lower than 10% additional resources will be committed to advertising and sponsorship in an effort to enhance brand awareness amongst the target consumers. In the sample, 93 consumers exhibited what the company the company considered strong liking.\n",
       "\n",
       "### Variables \n",
       "\n",
       "The data set has 1000 rows and two variables, `id` and `consider`. \n",
       "\n",
       "* id = Survey respondent id\n",
       "* consider = Would the consumer consider purchasing this brand of car (yes / no)?\n"
      ],
      "text/plain": [
       "<IPython.core.display.Markdown object>"
      ]
     },
     "metadata": {},
     "output_type": "display_data"
    }
   ],
   "source": [
    "rsm.md(consider_description)"
   ]
  },
  {
   "attachments": {},
   "cell_type": "markdown",
   "metadata": {},
   "source": [
    "Suppose we want to test if the brand preference is lower than 10%. Below is the way to do it in python usinng the `pyrsm` package."
   ]
  },
  {
   "cell_type": "code",
   "execution_count": 5,
   "metadata": {},
   "outputs": [
    {
     "name": "stdout",
     "output_type": "stream",
     "text": [
      "Single proportion (binomial exact)\n",
      "Data      : consider\n",
      "Variable  : consider\n",
      "Level     : \"yes\" in consider\n",
      "Confidence: 0.95\n",
      "Null hyp. : the proportion of \"yes\" in consider is equal to 0.1\n",
      "Alt. hyp. : the proportion of \"yes\" in consider less than 0.1\n",
      "\n",
      "    p  ns    n  n_missing   sd    se    me\n",
      "0.093  93 1000          0 0.29 0.009 0.018 \n",
      "\n",
      "  diff  ns  p.value  0%  95.0%  \n",
      "-0.007  93    0.249 0.0   0.11  \n",
      "\n",
      "Signif. codes:  0 '***' 0.001 '**' 0.01 '*' 0.05 '.' 0.1 ' ' 1\n"
     ]
    }
   ],
   "source": [
    "sp = rsm.basics.single_prop(\n",
    "    data={\"consider\": consider},\n",
    "    var=\"consider\",\n",
    "    lev=\"yes\",\n",
    "    alt_hyp=\"less\",\n",
    "    conf=0.95,\n",
    "    comp_value=0.1,\n",
    "    test_type=\"binomial\",\n",
    ")\n",
    "sp.summary()"
   ]
  },
  {
   "cell_type": "code",
   "execution_count": 6,
   "metadata": {},
   "outputs": [
    {
     "data": {
      "image/png": "[encoded data removed]",
      "text/plain": [
       "<Figure size 640x480 with 1 Axes>"
      ]
     },
     "metadata": {},
     "output_type": "display_data"
    }
   ],
   "source": [
    "sp.plot()"
   ]
  },
  {
   "attachments": {},
   "cell_type": "markdown",
   "metadata": {},
   "source": [
    "# Radiant for Python App: Single proportion\n",
    "\n",
    "To test this hypothesis in Radiant for Python, our null-hypothesis is that the proportion of consumers that would consider the car brand for a future purchase is equal to 10%.\n",
    "\n",
    "Select the `consider` variable from the `Variable` dropdown. To evaluate the proportion of `yes` responses in the sample select `yes` from the `Choose level` dropdown.\n",
    "\n",
    "Choose the `Less than` option from the `Alternative hypothesis` drop-down to determine if the available data provides sufficient evidence to reject the null-hypothesis in favor of the alternative that the proportion of consumers that will consider the brand is **less than 10%**."
   ]
  },
  {
   "cell_type": "code",
   "execution_count": null,
   "metadata": {},
   "outputs": [
    {
     "name": "stdout",
     "output_type": "stream",
     "text": [
      "Listening on http://localhost:8000\n",
      "Pyrsm and Radiant are open source tools and free to use. If you\n",
      "are a student or instructor using pyrsm or Radiant for a class,\n",
      "as a favor to the developers, please send an email to\n",
      "<radiant@rady.ucsd.edu> with the name of the school and class.\n",
      "If you are using Radiant in your company, as a favor to the\n",
      "developer, please share the name of your company and what types\n",
      "of activites you are supporting with the tool.\n"
     ]
    },
    {
     "data": {
      "text/markdown": [
       "```python\n",
       "import pyrsm as rsm\n",
       "\n",
       "# consider = pd.read_parquet('consider.parquet')\n",
       "sp = rsm.basics.single_prop(\n",
       "    data={\"consider\": consider},\n",
       "    var=\"consider\",\n",
       "    lev=\"yes\",\n",
       "    alt_hyp=\"less\",\n",
       "    comp_value=0.1,\n",
       ")\n",
       "sp.summary()\n",
       "\n",
       "```"
      ],
      "text/plain": [
       "<IPython.core.display.Markdown object>"
      ]
     },
     "metadata": {},
     "output_type": "display_data"
    }
   ],
   "source": [
    "rsm.radiant.basics.single_prop({\"consider\": consider}, {\"consider\": consider_description}, code=True)"
   ]
  },
  {
   "attachments": {},
   "cell_type": "markdown",
   "metadata": {},
   "source": [
    "<p align=\"center\">\n",
    "<img src=\"figures/single_prop_summary.png\">\n",
    "</p>"
   ]
  },
  {
   "attachments": {},
   "cell_type": "markdown",
   "metadata": {},
   "source": [
    "The first two blocks of output show basic information about the test (e.g.,. the null and alternative hypothesis) and summary statistics (e.g., the proportion of “yes” responses, standard error, margin or error, etc.). The final row of output shows the following:\n",
    "\n",
    "- `diff` is the difference between the sample proportion (0.093) and the comparison value (0.1)\n",
    "- `ns` is the number of successes. This is the number we can compare to a binomial-distribution with parameters `n = 1000`` and `p = 0.10``\n",
    "- `p.value` is the probability of finding a value as extreme or more extreme than `diff` if the null hypothesis is true\n",
    "- `0%` `95%` show the 95% confidence interval around the sample proportion (0 to 0.11). These numbers provide a range within which the true population proportion is likely to fall"
   ]
  },
  {
   "attachments": {},
   "cell_type": "markdown",
   "metadata": {},
   "source": [
    "# Testing\n",
    "\n",
    "There are three approaches we can use to evaluate the null hypothesis. We will choose a significance level of 0.05.<sup>1</sup> Of course, each approach will lead to the same conclusion."
   ]
  },
  {
   "attachments": {},
   "cell_type": "markdown",
   "metadata": {},
   "source": [
    "### p.value\n",
    "\n",
    "Because the p.value is **larger** than the conventional significance level (0.249 > 0.05) we **cannot** reject the null hypothesis and **do not suggest** that management commit resources to increase brand awareness.\n",
    "\n",
    "We can also obtain the p.value by using the probability calculator. Enter the number of successes in the data (93) as the lower bound (value) for a binomial-distribution with `n = 1000` and `p = 0.1`. The p.value is the probability of observing a number of successes as or more extreme than the 93 we got in our sample.\n",
    "\n",
    "We see that `P(X <= 93) = 0.249` which is the same value we got from Single proportion test."
   ]
  },
  {
   "cell_type": "code",
   "execution_count": 8,
   "metadata": {},
   "outputs": [
    {
     "name": "stdout",
     "output_type": "stream",
     "text": [
      "Probability calculator\n",
      "Distribution: Binomial\n",
      "n           : 1000\n",
      "p           : 0.1\n",
      "Mean        : 100.0\n",
      "St. dev     : 9.487\n",
      "Lower bound : 93\n",
      "Upper bound :  \n",
      "\n",
      "P(X  = 93) = 0.033\n",
      "P(X  < 93) = 0.216\n",
      "P(X <= 93) = 0.249\n",
      "P(X  > 93) = 0.751\n",
      "P(X >= 93) = 0.784\n"
     ]
    },
    {
     "data": {
      "image/png": "[encoded data removed]",
      "text/plain": [
       "<Figure size 640x480 with 1 Axes>"
      ]
     },
     "metadata": {},
     "output_type": "display_data"
    }
   ],
   "source": [
    "pc = rsm.basics.prob_calc(\"binom\", n=1000, p=0.1, lb=93)\n",
    "pc.summary()\n",
    "pc.plot()"
   ]
  },
  {
   "attachments": {},
   "cell_type": "markdown",
   "metadata": {},
   "source": [
    "### Confidence interval\n",
    "\n",
    "Because the `comparison value` **is** contained in the confidence interval (i.e., 0 < 0.1 < 0.11) we **cannot** reject the null hypothesis and **do not suggest** that management commit resources to increase brand awareness."
   ]
  },
  {
   "attachments": {},
   "cell_type": "markdown",
   "metadata": {},
   "source": [
    "### Number of successes\n",
    "\n",
    "We can obtain the critical value by using the probability calculator in the Basics menu. For a binomial-distribution with `n = 1000` and `p = 0.1` the critical value is 85. We have to enter 0.05 as the lower probability bound because the alternative hypothesis is `Less than`."
   ]
  },
  {
   "cell_type": "code",
   "execution_count": 9,
   "metadata": {},
   "outputs": [
    {
     "name": "stdout",
     "output_type": "stream",
     "text": [
      "Probability calculator\n",
      "Distribution: Binomial\n",
      "n           : 1000\n",
      "p           : 0.1\n",
      "Mean        : 100.0\n",
      "St. dev     : 9.487\n",
      "Lower bound : 0.05 (85.0)\n",
      "Upper bound : \n",
      "P(X  = 85.0) = 0.012\n",
      "P(X  < 85.0) = 0.049\n",
      "P(X <= 85.0) = 0.061\n",
      "P(X  > 85.0) = 0.939\n",
      "P(X >= 85.0) = 0.951\n"
     ]
    },
    {
     "data": {
      "image/png": "[encoded data removed]",
      "text/plain": [
       "<Figure size 640x480 with 1 Axes>"
      ]
     },
     "metadata": {},
     "output_type": "display_data"
    }
   ],
   "source": [
    "pc = rsm.basics.prob_calc(\"binom\", n=1000, p=0.1, plb=0.05)\n",
    "pc.summary()\n",
    "pc.plot()"
   ]
  },
  {
   "attachments": {},
   "cell_type": "markdown",
   "metadata": {},
   "source": [
    "Because the number of successes (i.e., the number of “yes” responses) **is** larger than the critical value (93 vs 85) we **cannot** reject the null hypothesis and **do not suggest** that management commit resources to increase brand awareness."
   ]
  },
  {
   "attachments": {},
   "cell_type": "markdown",
   "metadata": {},
   "source": [
    "# <i>Stats Speak</i>\n",
    "\n",
    "This is a **single proportion** test of the null hypothesis that the true population **proportion** is equal to **0.1**. Using a significance level of 0.05, we **cannot reject** the null hypothesis, and **cannot conclude** that the true population **proportion** is **less** than **0.1**.\n",
    "\n",
    "The p.value for this test is **0.249**. This is the probability of observing a sample **proportion** (or **number of successes**) that is as or more extreme than the sample value we estimated from the data if the null hypothesis is true. In this case, it is the probability of observing a sample **proportion** (**number of successes**) that is less than (or equal to) **0.093** (**93**) if the true population **proportion** is **0.1**.\n",
    "\n",
    "The 95% confidence bound is **0.11**. If repeated samples were taken and the 95% confidence bound computed for each one, the true population proportion would be below that bound in 95% of the samples.\n",
    "\n",
    "<sup>1</sup> The <b>significance level</b>, often denoted by α, is the highest probability you are willing to accept of rejecting the null hypothesis when it is actually true. A commonly used significance level is 0.05 (or 5%)\n",
    "\n",
    "<sup>2</sup> 1−α is called the <b>confidence level</b>. A commonly used confidence level is 0.95 (or 95%)"
   ]
  },
  {
   "attachments": {},
   "cell_type": "markdown",
   "metadata": {},
   "source": [
    "# Video Tutorials\n",
    "\n",
    "To review the same analysis in Radiant for R, copy-and-paste the full command below into the RStudio console (i.e., the bottom-left window) and press return to gain access to all materials used in the hypothesis testing module of the <a href=\"https://www.youtube.com/playlist?list=PLNhtaetb48EdKRIY7MewCyvb_1x7dV3xw\" target=\"_blank\">Radiant Tutorial Series</a>:\n",
    "\n",
    "`usethis::use_course(\"https://www.dropbox.com/sh/0xvhyolgcvox685/AADSppNSIocrJS-BqZXhD1Kna?dl=1\")`\n",
    "\n",
    "<a href=\"https://youtu.be/tTYvBUCaR3w\" target=\"_blank\">Single Proportion Hypothesis Test</a>\n",
    "\n",
    "* This video shows how to test a hypothesis about a single sample proportion versus a population proportion\n",
    "* Topics List:\n",
    "    - Setup a hypothesis test for a single proportion in Radiant\n",
    "    - Use the p.value, confidence interval, or critical value to evaluate the hypothesis test"
   ]
  },
  {
   "attachments": {},
   "cell_type": "markdown",
   "metadata": {},
   "source": [
    "© Vincent Nijs (2024)"
   ]
  }
 ],
 "metadata": {
  "interpreter": {
   "hash": "53a2aba860810c54f9d6467701d48cc6f01ab0c2f275f91ba243d3565bcab01f"
  },
  "kernelspec": {
   "display_name": "pyrsm",
   "language": "python",
   "name": "pyrsm"
  },
  "language_info": {
   "codemirror_mode": {
    "name": "ipython",
    "version": 3
   },
   "file_extension": ".py",
   "mimetype": "text/x-python",
   "name": "python",
   "nbconvert_exporter": "python",
   "pygments_lexer": "ipython3",
   "version": "3.11.7"
  },
  "orig_nbformat": 4
 },
 "nbformat": 4,
 "nbformat_minor": 2
}
