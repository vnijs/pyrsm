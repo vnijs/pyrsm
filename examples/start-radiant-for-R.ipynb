{
 "cells": [
  {
   "cell_type": "markdown",
   "id": "6aec986b-9bbe-4876-9801-856521f75ae8",
   "metadata": {},
   "source": [
    "# Radiant for R\n",
    "\n",
    "<div class=\"alert alert-info\">Note: Make sure you are running an R Jupyter-kernel</div>\n",
    "\n",
    "Starts radiant using the command below. When the URL `http://0.0.0.0:8181` is shown, click on it to start radiant in a new tab in your browser. The link will work as long as there is a `[*]` next to the cell with the command that starts radiant. Note radiant will treat the location of the R-notebook as the base directory to work from.\n",
    "\n",
    "Stop radiant by clicking on the power-icon in the navigation bar and then on Stop\n",
    "\n",
    "> Note: This requires that you have an R-kernel setup and installed"
   ]
  },
  {
   "cell_type": "code",
   "execution_count": null,
   "id": "c8d21f89-3679-4e8c-a751-4d88f543ca53",
   "metadata": {},
   "outputs": [],
   "source": [
    "radiant.data::launch(package=\"radiant\", host=\"0.0.0.0\", port=8181, run=FALSE)"
   ]
  }
 ],
 "metadata": {
  "kernelspec": {
   "display_name": "pyrsm",
   "language": "python",
   "name": "pyrsm"
  },
  "language_info": {
   "codemirror_mode": {
    "name": "ipython",
    "version": 3
   },
   "file_extension": ".py",
   "mimetype": "text/x-python",
   "name": "python",
   "nbconvert_exporter": "python",
   "pygments_lexer": "ipython3",
   "version": "3.11.7"
  }
 },
 "nbformat": 4,
 "nbformat_minor": 5
}
